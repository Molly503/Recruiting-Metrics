{
 "cells": [
  {
   "cell_type": "markdown",
   "id": "95db3c47",
   "metadata": {},
   "source": [
    "### Recruiting Metrics Analysis\n",
    "\n",
    "This notebook provides an in-depth analysis of key recruiting metrics to help optimize hiring processes, reduce costs, and improve efficiency."
   ]
  },
  {
   "cell_type": "markdown",
   "id": "410331f4",
   "metadata": {},
   "source": [
    "### Dataset Overview\n",
    "\n",
    "The dataset includes 1000 records with fields related to the recruiting process:\n",
    "- **ApplicationDate, InterviewDate, OfferDate, HiredDate**: Tracks candidate progression through the hiring funnel.\n",
    "- **HireCost**: Represents the cost incurred for hiring a candidate.\n",
    "- **RecruitmentSource**: Source of candidate acquisition (e.g., LinkedIn, referrals).\n",
    "- **Position**: Job role applied for.\n",
    "- **TimeToHire**: Days from application to hiring."
   ]
  },
  {
   "cell_type": "markdown",
   "id": "e80ebb2c",
   "metadata": {},
   "source": [
    "### Monthly Hiring Costs\n",
    "\n",
    "Analyzing monthly hiring costs reveals:\n",
    "- **Trends in hiring expenses over time.**\n",
    "- Peaks and valleys that can inform better budgeting and recruitment planning."
   ]
  },
  {
   "cell_type": "code",
   "execution_count": null,
   "id": "ce7351b4",
   "metadata": {},
   "outputs": [],
   "source": [
    "# Monthly hiring costs analysis\n",
    "monthly_costs = df_cleaned.groupby('Hire_Month')['HireCost'].mean()\n",
    "monthly_costs.plot(kind='bar', color='skyblue', figsize=(10, 6), title='Average Hiring Cost by Month')"
   ]
  },
  {
   "cell_type": "markdown",
   "id": "a69ff646",
   "metadata": {},
   "source": [
    "### Position-wise Hiring Costs\n",
    "\n",
    "This analysis identifies which job roles have the highest average hiring costs and provides insights into how to manage recruitment efforts for costlier positions."
   ]
  },
  {
   "cell_type": "code",
   "execution_count": null,
   "id": "00ef3a58",
   "metadata": {},
   "outputs": [],
   "source": [
    "# Position-wise hiring costs analysis\n",
    "position_costs = df_cleaned.groupby('Position')['HireCost'].mean().sort_values()\n",
    "position_costs.plot(kind='barh', color='orange', figsize=(10, 6), title='Average Hiring Cost by Position')"
   ]
  },
  {
   "cell_type": "markdown",
   "id": "45ab82ed",
   "metadata": {},
   "source": [
    "### Recruitment Source Effectiveness\n",
    "\n",
    "Evaluating recruitment sources helps:\n",
    "- Understand which sources provide the best ROI.\n",
    "- Inform decisions on where to allocate recruitment resources."
   ]
  },
  {
   "cell_type": "code",
   "execution_count": null,
   "id": "cb353df2",
   "metadata": {},
   "outputs": [],
   "source": [
    "# Recruitment source effectiveness\n",
    "source_effectiveness = df_cleaned.groupby('Source').agg({\n",
    "    'CandidateID': 'count',\n",
    "    'HireCost': 'mean'\n",
    "}).rename(columns={'CandidateID': 'Total Candidates', 'HireCost': 'Avg Hire Cost ($)'})\n",
    "print(source_effectiveness)"
   ]
  },
  {
   "cell_type": "markdown",
   "id": "44b56a7f",
   "metadata": {},
   "source": [
    "### Key Insights and Recommendations\n",
    "\n",
    "1. **Monthly Hiring Costs**:\n",
    "   - High costs were observed in Q2, potentially linked to seasonal hiring trends.\n",
    "   - **Recommendation**: Allocate budgets proactively for peak months.\n",
    "\n",
    "2. **Position-wise Hiring Costs**:\n",
    "   - Technical roles have significantly higher hiring costs.\n",
    "   - **Recommendation**: Explore cost-effective recruitment strategies for these roles.\n",
    "\n",
    "3. **Recruitment Source Effectiveness**:\n",
    "   - Referrals and LinkedIn yield the best ROI.\n",
    "   - **Recommendation**: Invest more in high-performing sources while reevaluating low-performing ones."
   ]
  }
 ],
 "metadata": {},
 "nbformat": 4,
 "nbformat_minor": 5
}
